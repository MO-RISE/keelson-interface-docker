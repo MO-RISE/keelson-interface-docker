{
 "cells": [
  {
   "cell_type": "markdown",
   "metadata": {},
   "source": [
    "# Zenoh Queryable Experiments"
   ]
  },
  {
   "cell_type": "code",
   "execution_count": 13,
   "metadata": {},
   "outputs": [],
   "source": [
    "import zenoh\n",
    "import json\n",
    "import logging\n",
    "logger = logging.getLogger(\"keelson-zenoh\")\n",
    "zenoh.init_logger()"
   ]
  },
  {
   "cell_type": "code",
   "execution_count": null,
   "metadata": {},
   "outputs": [],
   "source": [
    "\n"
   ]
  },
  {
   "cell_type": "code",
   "execution_count": 2,
   "metadata": {},
   "outputs": [
    {
     "name": "stdout",
     "output_type": "stream",
     "text": [
      "Putting Data ('demo/test/some': '27')...\n"
     ]
    }
   ],
   "source": [
    "import zenoh, random, time\n",
    "\n",
    "random.seed()\n",
    "\n",
    "\n",
    "session = zenoh.open()\n",
    "key = 'demo/test/some'\n",
    "pub = session.declare_publisher(key)\n",
    "\n",
    "t = random.randint(15, 30)\n",
    "buf = f\"{t}\"\n",
    "print(f\"Putting Data ('{key}': '{buf}')...\")\n",
    "pub.put(buf)\n"
   ]
  },
  {
   "cell_type": "code",
   "execution_count": 6,
   "metadata": {},
   "outputs": [
    {
     "name": "stdout",
     "output_type": "stream",
     "text": [
      "Hello { zid: 6e5a18408fd7d657c094b069e3c3ca6e, whatami: Peer, locators: [tcp/[fe80::215:5dff:fecc:bb00]:36095, tcp/172.31.246.145:36095] }\n",
      "Hello { zid: 63a1da6678969f67b6894d270d3083e3, whatami: Peer, locators: [tcp/[fe80::215:5dff:fecc:bb00]:33521, tcp/172.31.246.145:33521] }\n",
      "Hello { zid: 6e5a18408fd7d657c094b069e3c3ca6e, whatami: Peer, locators: [tcp/[fe80::215:5dff:fecc:bb00]:36095, tcp/172.31.246.145:36095] }\n",
      "Hello { zid: 63a1da6678969f67b6894d270d3083e3, whatami: Peer, locators: [tcp/[fe80::215:5dff:fecc:bb00]:33521, tcp/172.31.246.145:33521] }\n"
     ]
    }
   ],
   "source": [
    "for hello in zenoh.scout(what = \"peer|router\", timeout=1.0).receiver():\n",
    "  print(hello)"
   ]
  },
  {
   "cell_type": "code",
   "execution_count": null,
   "metadata": {},
   "outputs": [],
   "source": []
  }
 ],
 "metadata": {
  "kernelspec": {
   "display_name": "env",
   "language": "python",
   "name": "python3"
  },
  "language_info": {
   "codemirror_mode": {
    "name": "ipython",
    "version": 3
   },
   "file_extension": ".py",
   "mimetype": "text/x-python",
   "name": "python",
   "nbconvert_exporter": "python",
   "pygments_lexer": "ipython3",
   "version": "3.10.12"
  }
 },
 "nbformat": 4,
 "nbformat_minor": 2
}
